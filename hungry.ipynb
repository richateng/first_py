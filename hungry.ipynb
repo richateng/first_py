{
 "cells": [
  {
   "cell_type": "code",
   "execution_count": 1,
   "id": "473df713-2e6a-4ee4-8c93-5102eb4b8b18",
   "metadata": {},
   "outputs": [
    {
     "name": "stdout",
     "output_type": "stream",
     "text": [
      "i am hungry\n"
     ]
    }
   ],
   "source": [
    "print(\"i am hungry\")"
   ]
  },
  {
   "cell_type": "code",
   "execution_count": null,
   "id": "ddd6e568-3db5-41ef-9c4a-75cd62dc47d3",
   "metadata": {},
   "outputs": [],
   "source": []
  }
 ],
 "metadata": {
  "kernelspec": {
   "display_name": "Python 3 (ipykernel)",
   "language": "python",
   "name": "python3"
  },
  "language_info": {
   "codemirror_mode": {
    "name": "ipython",
    "version": 3
   },
   "file_extension": ".py",
   "mimetype": "text/x-python",
   "name": "python",
   "nbconvert_exporter": "python",
   "pygments_lexer": "ipython3",
   "version": "3.10.11"
  }
 },
 "nbformat": 4,
 "nbformat_minor": 5
}
